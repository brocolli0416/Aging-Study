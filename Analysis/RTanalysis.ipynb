{
 "metadata": {
  "language_info": {
   "codemirror_mode": {
    "name": "ipython",
    "version": 3
   },
   "file_extension": ".py",
   "mimetype": "text/x-python",
   "name": "python",
   "nbconvert_exporter": "python",
   "pygments_lexer": "ipython3",
   "version": "3.6.6"
  },
  "orig_nbformat": 4,
  "kernelspec": {
   "name": "python3",
   "display_name": "Python 3.6.6 64-bit"
  },
  "interpreter": {
   "hash": "496b04e30059469958467f0d4db1620d644ed6cb7bd63306bef423de4168438b"
  }
 },
 "nbformat": 4,
 "nbformat_minor": 2,
 "cells": [
  {
   "cell_type": "code",
   "execution_count": 15,
   "metadata": {},
   "outputs": [],
   "source": [
    "import pandas as pd \n",
    "import numpy as np \n",
    "from sklearn import linear_model"
   ]
  },
  {
   "cell_type": "code",
   "execution_count": 13,
   "metadata": {},
   "outputs": [],
   "source": [
    "\n",
    "df = pd.read_csv('YA_rawRT.csv')\n",
    "coded_pos1 = [0]*len(df)\n",
    "coded_pos2 = [0]*len(df)\n",
    "avr_rt = [0]*len(df)\n"
   ]
  },
  {
   "cell_type": "code",
   "execution_count": 14,
   "metadata": {},
   "outputs": [
    {
     "output_type": "execute_result",
     "data": {
      "text/plain": [
       "         RT Syllable  Position  Occurrence                   Subject  \\\n",
       "0    0.4426       ni         2           1  5ff649fda2b5841ceef90ff0   \n",
       "1    0.3550       ni         2           1  5ff649fda2b5841ceef90ff0   \n",
       "2    0.2206       ni         2           1  5ff649fda2b5841ceef90ff0   \n",
       "3    0.4241       ni         2           1  5ff649fda2b5841ceef90ff0   \n",
       "4    0.5358       fu         1           1  5ff649fda2b5841ceef90ff0   \n",
       "..      ...      ...       ...         ...                       ...   \n",
       "234  0.4503       ni         3           3  60dc4b08dd9ec36f5ca9e3fa   \n",
       "235  0.7957       ni         3           3  60dc4b08dd9ec36f5ca9e3fa   \n",
       "236  0.8474       ni         3           3  60dc4b08dd9ec36f5ca9e3fa   \n",
       "237  0.4087       fu         2           3  60dc4b08dd9ec36f5ca9e3fa   \n",
       "238  0.4689       fu         2           3  60dc4b08dd9ec36f5ca9e3fa   \n",
       "\n",
       "     Condition  coded_pos1  coded_pos2    avr_rt  \n",
       "0            3           1           0 -0.053026  \n",
       "1            3           1           0 -0.140626  \n",
       "2            3           1           0 -0.275026  \n",
       "3            3           1           0 -0.071526  \n",
       "4            3          -1          -1  0.040174  \n",
       "..         ...         ...         ...       ...  \n",
       "234          1           0           1 -0.045326  \n",
       "235          1           0           1  0.300074  \n",
       "236          1           0           1  0.351774  \n",
       "237          1           1           0 -0.086926  \n",
       "238          1           1           0 -0.026726  \n",
       "\n",
       "[239 rows x 9 columns]"
      ],
      "text/html": "<div>\n<style scoped>\n    .dataframe tbody tr th:only-of-type {\n        vertical-align: middle;\n    }\n\n    .dataframe tbody tr th {\n        vertical-align: top;\n    }\n\n    .dataframe thead th {\n        text-align: right;\n    }\n</style>\n<table border=\"1\" class=\"dataframe\">\n  <thead>\n    <tr style=\"text-align: right;\">\n      <th></th>\n      <th>RT</th>\n      <th>Syllable</th>\n      <th>Position</th>\n      <th>Occurrence</th>\n      <th>Subject</th>\n      <th>Condition</th>\n      <th>coded_pos1</th>\n      <th>coded_pos2</th>\n      <th>avr_rt</th>\n    </tr>\n  </thead>\n  <tbody>\n    <tr>\n      <th>0</th>\n      <td>0.4426</td>\n      <td>ni</td>\n      <td>2</td>\n      <td>1</td>\n      <td>5ff649fda2b5841ceef90ff0</td>\n      <td>3</td>\n      <td>1</td>\n      <td>0</td>\n      <td>-0.053026</td>\n    </tr>\n    <tr>\n      <th>1</th>\n      <td>0.3550</td>\n      <td>ni</td>\n      <td>2</td>\n      <td>1</td>\n      <td>5ff649fda2b5841ceef90ff0</td>\n      <td>3</td>\n      <td>1</td>\n      <td>0</td>\n      <td>-0.140626</td>\n    </tr>\n    <tr>\n      <th>2</th>\n      <td>0.2206</td>\n      <td>ni</td>\n      <td>2</td>\n      <td>1</td>\n      <td>5ff649fda2b5841ceef90ff0</td>\n      <td>3</td>\n      <td>1</td>\n      <td>0</td>\n      <td>-0.275026</td>\n    </tr>\n    <tr>\n      <th>3</th>\n      <td>0.4241</td>\n      <td>ni</td>\n      <td>2</td>\n      <td>1</td>\n      <td>5ff649fda2b5841ceef90ff0</td>\n      <td>3</td>\n      <td>1</td>\n      <td>0</td>\n      <td>-0.071526</td>\n    </tr>\n    <tr>\n      <th>4</th>\n      <td>0.5358</td>\n      <td>fu</td>\n      <td>1</td>\n      <td>1</td>\n      <td>5ff649fda2b5841ceef90ff0</td>\n      <td>3</td>\n      <td>-1</td>\n      <td>-1</td>\n      <td>0.040174</td>\n    </tr>\n    <tr>\n      <th>...</th>\n      <td>...</td>\n      <td>...</td>\n      <td>...</td>\n      <td>...</td>\n      <td>...</td>\n      <td>...</td>\n      <td>...</td>\n      <td>...</td>\n      <td>...</td>\n    </tr>\n    <tr>\n      <th>234</th>\n      <td>0.4503</td>\n      <td>ni</td>\n      <td>3</td>\n      <td>3</td>\n      <td>60dc4b08dd9ec36f5ca9e3fa</td>\n      <td>1</td>\n      <td>0</td>\n      <td>1</td>\n      <td>-0.045326</td>\n    </tr>\n    <tr>\n      <th>235</th>\n      <td>0.7957</td>\n      <td>ni</td>\n      <td>3</td>\n      <td>3</td>\n      <td>60dc4b08dd9ec36f5ca9e3fa</td>\n      <td>1</td>\n      <td>0</td>\n      <td>1</td>\n      <td>0.300074</td>\n    </tr>\n    <tr>\n      <th>236</th>\n      <td>0.8474</td>\n      <td>ni</td>\n      <td>3</td>\n      <td>3</td>\n      <td>60dc4b08dd9ec36f5ca9e3fa</td>\n      <td>1</td>\n      <td>0</td>\n      <td>1</td>\n      <td>0.351774</td>\n    </tr>\n    <tr>\n      <th>237</th>\n      <td>0.4087</td>\n      <td>fu</td>\n      <td>2</td>\n      <td>3</td>\n      <td>60dc4b08dd9ec36f5ca9e3fa</td>\n      <td>1</td>\n      <td>1</td>\n      <td>0</td>\n      <td>-0.086926</td>\n    </tr>\n    <tr>\n      <th>238</th>\n      <td>0.4689</td>\n      <td>fu</td>\n      <td>2</td>\n      <td>3</td>\n      <td>60dc4b08dd9ec36f5ca9e3fa</td>\n      <td>1</td>\n      <td>1</td>\n      <td>0</td>\n      <td>-0.026726</td>\n    </tr>\n  </tbody>\n</table>\n<p>239 rows × 9 columns</p>\n</div>"
     },
     "metadata": {},
     "execution_count": 14
    }
   ],
   "source": [
    "for i, x in enumerate(df['Position']):\n",
    "    if x == 1:\n",
    "        coded_pos1[i] = -1\n",
    "        coded_pos2[i] = -1\n",
    "    elif x == 2:\n",
    "        coded_pos1[i] = 1\n",
    "        coded_pos2[i] = 0\n",
    "    else:\n",
    "        coded_pos1[i] = 0\n",
    "        coded_pos2[i] = 1\n",
    "for i, x in enumerate(df['RT']):\n",
    "    avr_rt[i] = x-np.mean(df['RT'])\n",
    "df['coded_pos1'] = coded_pos1\n",
    "df['coded_pos2'] = coded_pos2\n",
    "df['avr_rt'] = avr_rt\n",
    "df\n"
   ]
  },
  {
   "cell_type": "code",
   "execution_count": 22,
   "metadata": {},
   "outputs": [
    {
     "output_type": "execute_result",
     "data": {
      "text/plain": [
       "LinearRegression()"
      ]
     },
     "metadata": {},
     "execution_count": 22
    }
   ],
   "source": [
    "ind_model = linear_model.LinearRegression()\n",
    "X = df[['coded_pos1', 'coded_pos2']]\n",
    "Y = df['avr_rt']\n",
    "ind_model.fit(X, Y)\n"
   ]
  },
  {
   "cell_type": "code",
   "execution_count": null,
   "metadata": {},
   "outputs": [],
   "source": []
  }
 ]
}